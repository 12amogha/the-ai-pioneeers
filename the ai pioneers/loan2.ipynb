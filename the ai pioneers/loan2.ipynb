{
  "cells": [
    {
      "cell_type": "code",
      "source": [
        "import click\r\n",
        "import rbiparser as rbi\r\n",
        "\r\n",
        "SOURCE_URL = \"https://www.rbi.org.in/scripts/bs_viewcontent.aspx?Id=2009\"\r\n",
        "\r\n",
        "\r\n",
        "@click.group()\r\n",
        "def cli():\r\n",
        "\t\"\"\"\r\n",
        "\tRbiparser command line utility\r\n",
        "\t\"\"\"\r\n",
        "\r\n",
        "\r\n",
        "@cli.command()\r\n",
        "@click.option('-s', '--source', type=click.STRING, default=SOURCE_URL,\r\n",
        "\thelp=\"Source url to download documents. Defaults to RBI data source.\")\r\n",
        "@click.option('-d', '--dest', type=click.Path(dir_okay=True), default=\"xls\",\r\n",
        "\thelp=\"Download destination directory.\")\r\n",
        "@click.option('-e', '--etag', type=click.Path(file_okay=True), default=\"etags.json\",\r\n",
        "\thelp=\"Etags file\")\r\n",
        "def download(source, dest, etag):\r\n",
        "\t\"\"\"Download all listed bank documents from RBI as .xls format.\"\"\"\r\n",
        "\trbi.download_all(source, dest, etag)\r\n",
        "\r\n",
        "\r\n",
        "@cli.command()\r\n",
        "@click.option('-s', '--source', type=click.Path(dir_okay=True, exists=True), default=\"xls\",\r\n",
        "\thelp=\"xls documents directory\")\r\n",
        "@click.option('-d', '--dest', type=click.Path(dir_okay=True), default=\"csv\",\r\n",
        "\thelp=\"Target directory for CSV files.\")\r\n",
        "def convert(source, dest):\r\n",
        "\t\"\"\"Convert all xls documents to CSV\"\"\"\r\n",
        "\trbi.convert_all(source, dest, rbi.HEADERS)\r\n",
        "\r\n",
        "\r\n",
        "@cli.command()\r\n",
        "@click.option('-s', '--source', type=click.Path(dir_okay=True, exists=True), default=\"csv\",\r\n",
        "\thelp=\"CSV files directory\")\r\n",
        "@click.option('-d', '--dest', type=click.Path(), default=\"data.csv\",\r\n",
        "\thelp=\"Name of the combined csv file.\")\r\n",
        "@click.option('-f', '--filters', type=click.BOOL, default=False, is_flag=True,\r\n",
        "\thelp=\"Apply advanced filters to clean the data\")\r\n",
        "def combine(source, dest, filters):\r\n",
        "\t\"\"\"Combine and clean all the indivdual CSV files\"\"\"\r\n",
        "\trbi.combine_csvs(source, dest, rbi.HEADERS, filters)"
      ],
      "outputs": [],
      "execution_count": null,
      "metadata": {}
    }
  ],
  "metadata": {
    "kernelspec": {
      "name": "python310-sdkv2",
      "language": "python",
      "display_name": "Python 3.10 - SDK v2"
    },
    "language_info": {
      "name": "python",
      "version": "3.10.9",
      "mimetype": "text/x-python",
      "codemirror_mode": {
        "name": "ipython",
        "version": 3
      },
      "pygments_lexer": "ipython3",
      "nbconvert_exporter": "python",
      "file_extension": ".py"
    },
    "kernel_info": {
      "name": "python310-sdkv2"
    },
    "nteract": {
      "version": "nteract-front-end@1.0.0"
    }
  },
  "nbformat": 4,
  "nbformat_minor": 2
}